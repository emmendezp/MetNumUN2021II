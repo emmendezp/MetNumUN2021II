{
  "nbformat": 4,
  "nbformat_minor": 0,
  "metadata": {
    "kernelspec": {
      "display_name": "Python 3",
      "language": "python",
      "name": "python3"
    },
    "language_info": {
      "codemirror_mode": {
        "name": "ipython",
        "version": 3
      },
      "file_extension": ".py",
      "mimetype": "text/x-python",
      "name": "python",
      "nbconvert_exporter": "python",
      "pygments_lexer": "ipython3",
      "version": "3.5.2"
    },
    "colab": {
      "name": "Grupo_20_week_1_quadratic_Po_Shen_Loh .ipynb",
      "provenance": [],
      "collapsed_sections": [],
      "include_colab_link": true
    }
  },
  "cells": [
    {
      "cell_type": "markdown",
      "metadata": {
        "id": "view-in-github",
        "colab_type": "text"
      },
      "source": [
        "<a href=\"https://colab.research.google.com/github/emmendezp/MetNumUN2021II/blob/main/Lab%207/Grupo_20_week_1_quadratic_Po_Shen_Loh_.ipynb\" target=\"_parent\"><img src=\"https://colab.research.google.com/assets/colab-badge.svg\" alt=\"Open In Colab\"/></a>"
      ]
    },
    {
      "cell_type": "markdown",
      "metadata": {
        "id": "R1JjZ592UF-K"
      },
      "source": [
        "## Quadratic equation  $a x^2 + b x + c = 0$\n",
        "\n",
        "$$ x_1,x_2 = \\frac{-b \\pm \\sqrt{b^2-4ac}}{2a}$$\n",
        "\n",
        "Are the same root (zeros) of \n",
        "\n",
        "$$x^2 + \\frac{b}{a} x + \\frac{c}{c} = 0$$"
      ]
    },
    {
      "cell_type": "code",
      "metadata": {
        "colab": {
          "base_uri": "https://localhost:8080/",
          "height": 265
        },
        "id": "SxD-No_oUDzB",
        "outputId": "974f1022-16c5-41ea-9245-165369362e84"
      },
      "source": [
        "import numpy as np\n",
        "import matplotlib.pyplot as plt\n",
        "\n",
        "def quadratic(a,b,c,x):\n",
        "    return a*x**2+b*x+c\n",
        "\n",
        "def quadraticeqiv(a,b,c,x):\n",
        "    return x**2+(b/a)*x+(c/a)\n",
        "\n",
        "# (2x-1) (x+2) = 2x**2 +3x -2 =0;  x_1 = 1/2, x_2 =-2\n",
        "# Equivalent x**2 +3/2x -1 = 0 \n",
        "\n",
        "x = np.arange(-3.5, 2, 0.001)\n",
        "z = np.zeros(len(x))\n",
        "y = quadratic(2,3,-2,x)\n",
        "ynew = quadraticeqiv(2,3,-2,x)\n",
        "plt.plot(x, y, x, ynew, x,z)\n",
        "plt.show()"
      ],
      "execution_count": null,
      "outputs": [
        {
          "output_type": "display_data",
          "data": {
            "image/png": "[encoded data removed]",
            "text/plain": [
              "<Figure size 432x288 with 1 Axes>"
            ]
          },
          "metadata": {
            "needs_background": "light"
          }
        }
      ]
    },
    {
      "cell_type": "markdown",
      "metadata": {
        "id": "5Mj2AvtnTyys"
      },
      "source": [
        "## Solve a quadratic equation, $x^2 + b x + c = 0$.\n",
        "\n",
        "\n",
        "Write a function which receives $b$ and $c$, the coefficients of a monic quadratic polynomial, $x^2 + b x + c$, and returns the pair of its roots. Your function should always return two values, even if quadratic has a double root.\n",
        "\n",
        "For example, given a quadratic $x^2 - 2x + 1$, your function should return a pair of $(1, 1)$. Of course, in floating point, your answers may differ from an exact unity.\n",
        "\n",
        "Your function also must correctly handle complex roots (to this end, you might need the `cmath` module from the standard library)."
      ]
    },
    {
      "cell_type": "code",
      "metadata": {
        "id": "cC1VlR0iTyAM"
      },
      "source": [
        "import math \n",
        "def solve_quad(b, c):\n",
        "    d = b**2-(4*c)\n",
        "    if (d == b**2):\n",
        "      x1 = b\n",
        "      x2 = c/x1\n",
        "    elif (d >= 0):\n",
        "      rd = math.sqrt(d)\n",
        "      x1 = (-b + rd)/2\n",
        "      x2 = (-b - rd)/2 \n",
        "    else:\n",
        "      rd = math.sqrt(-d)\n",
        "      x1 = complex(-b/2 , rd/2)\n",
        "      x2 = complex(-b/2 , -rd/2)\n",
        "    return x1, x2\n"
      ],
      "execution_count": null,
      "outputs": []
    },
    {
      "cell_type": "markdown",
      "metadata": {
        "id": "DtLraQJFVwpc"
      },
      "source": [
        "Test the your function on several examples against a calculation by hand. Once you're sure that your function works, try these five test cases below. \n",
        "\n",
        "Note that the last two test cases are special: they test whether your function handles extreme cases where a too simple approach is prone to a catastrophic cancellation. Make sure your function passes all five tests.\n",
        "\n",
        "This exercise is graded, each test case contributes a 20% of the grade"
      ]
    },
    {
      "cell_type": "code",
      "metadata": {
        "id": "HuWJU41fV1Ny"
      },
      "source": [
        "from numpy import allclose"
      ],
      "execution_count": null,
      "outputs": []
    },
    {
      "cell_type": "code",
      "metadata": {
        "id": "G82jYtUyV13S"
      },
      "source": [
        "variants = [{'b': 4.0, 'c': 3.0},\n",
        "            {'b': 2.0, 'c': 1.0},\n",
        "            {'b': 0.5, 'c': 4.0},\n",
        "            {'b': 1e10, 'c': 3.0},\n",
        "            {'b': -1e10, 'c': 4.0},]"
      ],
      "execution_count": null,
      "outputs": []
    },
    {
      "cell_type": "code",
      "metadata": {
        "colab": {
          "base_uri": "https://localhost:8080/"
        },
        "id": "2EzkqR_QV36D",
        "outputId": "d1bce8ca-26a5-4be2-85aa-a61842ff1755"
      },
      "source": [
        "for var in variants:\n",
        "    x1, x2 = solve_quad(**var)\n",
        "    print(allclose(x1*x2, var['c']))"
      ],
      "execution_count": null,
      "outputs": [
        {
          "output_type": "stream",
          "name": "stdout",
          "text": [
            "True\n",
            "True\n",
            "True\n",
            "True\n",
            "True\n"
          ]
        }
      ]
    },
    {
      "cell_type": "code",
      "metadata": {
        "colab": {
          "base_uri": "https://localhost:8080/"
        },
        "id": "8HLE3pdnWG_z",
        "outputId": "7e3b56b4-b169-44a7-86ff-45de3ca07df4"
      },
      "source": [
        "for var in variants:\n",
        "    x1, x2 = solve_quad(**var)\n",
        "    print(\"solve_quad(\"+str(var['b'])+\",\"+str(var['c'])+\")\",solve_quad(**var) )"
      ],
      "execution_count": null,
      "outputs": [
        {
          "output_type": "stream",
          "name": "stdout",
          "text": [
            "solve_quad(4.0,3.0) (-1.0, -3.0)\n",
            "solve_quad(2.0,1.0) (-1.0, -1.0)\n",
            "solve_quad(0.5,4.0) ((-0.25+1.984313483298443j), (-0.25-1.984313483298443j))\n",
            "solve_quad(10000000000.0,3.0) (10000000000.0, 3e-10)\n",
            "solve_quad(-10000000000.0,4.0) (-10000000000.0, -4e-10)\n"
          ]
        }
      ]
    },
    {
      "cell_type": "markdown",
      "metadata": {
        "id": "33dZJJaPgapL"
      },
      "source": [
        "## Analytic solutions with sympy solveset."
      ]
    },
    {
      "cell_type": "code",
      "metadata": {
        "colab": {
          "base_uri": "https://localhost:8080/",
          "height": 37
        },
        "id": "hDNLnEhceHJU",
        "outputId": "037c68d1-1490-465a-f7aa-c195545564d7"
      },
      "source": [
        "from sympy import Symbol, solveset, Eq, Rational\n",
        "x = Symbol('x')\n",
        "solveset(Eq(x**2 + 4*x + 3, 0), x)"
      ],
      "execution_count": null,
      "outputs": [
        {
          "output_type": "execute_result",
          "data": {
            "text/latex": "$\\displaystyle \\left\\{-3, -1\\right\\}$",
            "text/plain": [
              "FiniteSet(-3, -1)"
            ]
          },
          "metadata": {},
          "execution_count": 6
        }
      ]
    },
    {
      "cell_type": "code",
      "metadata": {
        "colab": {
          "base_uri": "https://localhost:8080/",
          "height": 37
        },
        "id": "fsR9jpplfPqb",
        "outputId": "ba31213f-15c8-443d-e0df-70bc30db76c8"
      },
      "source": [
        "solveset(Eq(x**2 + 2*x + 1, 0), x)"
      ],
      "execution_count": null,
      "outputs": [
        {
          "output_type": "execute_result",
          "data": {
            "text/latex": "$\\displaystyle \\left\\{-1\\right\\}$",
            "text/plain": [
              "FiniteSet(-1)"
            ]
          },
          "metadata": {},
          "execution_count": 7
        }
      ]
    },
    {
      "cell_type": "code",
      "metadata": {
        "colab": {
          "base_uri": "https://localhost:8080/",
          "height": 68
        },
        "id": "owasE6zrgBLc",
        "outputId": "c53975b5-387d-4e49-c2c8-bbde68955a24"
      },
      "source": [
        "solveset(Eq(x**2 + Rational(1,2)*x + 1, 0), x)"
      ],
      "execution_count": null,
      "outputs": [
        {
          "output_type": "execute_result",
          "data": {
            "text/latex": "$\\displaystyle \\left\\{- \\frac{1}{4} - \\frac{\\sqrt{15} i}{4}, - \\frac{1}{4} + \\frac{\\sqrt{15} i}{4}\\right\\}$",
            "text/plain": [
              "FiniteSet(-1/4 - sqrt(15)*I/4, -1/4 + sqrt(15)*I/4)"
            ]
          },
          "metadata": {},
          "execution_count": 8
        }
      ]
    },
    {
      "cell_type": "code",
      "metadata": {
        "colab": {
          "base_uri": "https://localhost:8080/",
          "height": 47
        },
        "id": "rOagaA89e1SE",
        "outputId": "e2a9ca18-ceb0-4d19-cf81-57a2db1cb614"
      },
      "source": [
        "solveset(Eq(x**2 + 10000000000*x + 3, 0), x)"
      ],
      "execution_count": null,
      "outputs": [
        {
          "output_type": "execute_result",
          "data": {
            "text/latex": "$\\displaystyle \\left\\{-5000000000 - \\sqrt{24999999999999999997}, -5000000000 + \\sqrt{24999999999999999997}\\right\\}$",
            "text/plain": [
              "FiniteSet(-5000000000 + sqrt(24999999999999999997), -5000000000 - sqrt(24999999999999999997))"
            ]
          },
          "metadata": {},
          "execution_count": 9
        }
      ]
    },
    {
      "cell_type": "code",
      "metadata": {
        "colab": {
          "base_uri": "https://localhost:8080/",
          "height": 47
        },
        "id": "QROcdwRJexu7",
        "outputId": "5a7a4141-14bf-4179-f876-b84f2656e1e9"
      },
      "source": [
        "solveset(Eq(x**2 - 10000000000*x - 4, 0), x)"
      ],
      "execution_count": null,
      "outputs": [
        {
          "output_type": "execute_result",
          "data": {
            "text/latex": "$\\displaystyle \\left\\{5000000000 - 2 \\sqrt{6250000000000000001}, 5000000000 + 2 \\sqrt{6250000000000000001}\\right\\}$",
            "text/plain": [
              "FiniteSet(5000000000 - 2*sqrt(6250000000000000001), 5000000000 + 2*sqrt(6250000000000000001))"
            ]
          },
          "metadata": {},
          "execution_count": 10
        }
      ]
    },
    {
      "cell_type": "markdown",
      "metadata": {
        "id": "zOj_mh6SrPkk"
      },
      "source": [
        "\n",
        "## Po-Shen Loh method to solve the quadratic equation $x^2 + b x + c = 0$ \n",
        "\n",
        "  https://youtu.be/ZBalWWHYFQc\n",
        "\n",
        "![hoShenLo.png](https://raw.githubusercontent.com/gjhernandezp/NM/main/Computer%20Arithmetic/PhoShenLo.png)\n",
        "\n",
        "\n",
        "\n",
        "\n",
        "\n",
        "\n"
      ]
    },
    {
      "cell_type": "markdown",
      "metadata": {
        "id": "P2R4Kb2kaHzD"
      },
      "source": [
        "## Solve a quadratic equation, $x^2 + b x + c = 0$ using the Po-Shen Loh \n",
        "\n",
        "$$ x^2 + b x + c =  (x + x_1) (x  + x_2) = (x  - (-x_1)) (x  - (-x_2)) $$\n",
        "with\n",
        "$$ x_1 + x_2 = b$$\n",
        "and \n",
        "$$ x_1 * x_2 = c$$\n",
        "\n",
        "$$ x_1 = \\frac{b}{2} - u$$\n",
        "$$ x_2 = \\frac{b}{2} + u$$\n",
        "\n",
        "$$  c = x_1 x_2  = \\left (\\frac{b}{2}\\right)^2 -  u^2$$\n",
        "\n",
        "$$  u = \\sqrt {\\left(\\frac{b}{2}\\right)^2 -  c} $$\n",
        "\n",
        "Roots are \n",
        "\n",
        "$$ - x_1 = -\\left(\\frac{b}{2} - u\\right)$$\n",
        "$$ - x_2 = -\\left(\\frac{b}{2} + u\\right)$$\n",
        "\n",
        "\n",
        "\n",
        "\n",
        "Write a function which receives $b$ and $c$, the coefficients of a monic quadratic polynomial, $x^2 + b x + c$, and returns $u$ form the Po-Shen Loh method and the pair of its roots. Your function should always return three values, even if quadratic has a double root.\n",
        "\n",
        "For example, given a quadratic $x^2 - 2x + 1$, your function should return  $(0j, (1+0j), (1+0j))$. Of course, in floating point, your answers may differ from an exact unity.\n",
        "\n",
        "Your function also must correctly handle complex roots (to this end, you might need the `cmath` module from the standard library) and if u can not be calculated because floting-point limitations should return $u$ equal to $-1$\n",
        "\n",
        "\n",
        "\n"
      ]
    },
    {
      "cell_type": "code",
      "metadata": {
        "id": "GxQXT4W5ldqs"
      },
      "source": [
        "import cmath\n",
        "\n",
        "def solve_quad_Po_Shen_Loh(b, c):\n",
        "\n",
        "    if (((b/2)**2 - c) == (b/2)**2):\n",
        "      u = -1\n",
        "      x1 = b\n",
        "      x2 = c/x1\n",
        "    else :\n",
        "      u = cmath.sqrt((b/2)**2 - c) \n",
        "      x1 =  -((b/2) - u)\n",
        "      x2 =  -((b/2) + u)\n",
        "    return u, x1, x2\n",
        "\n",
        "\n",
        "   \n",
        "\n",
        "\n",
        "\n",
        " "
      ],
      "execution_count": null,
      "outputs": []
    },
    {
      "cell_type": "markdown",
      "metadata": {
        "id": "XA1yEMI-rz8I"
      },
      "source": [
        "Test the your function on several examples against a calculation by hand. Once you're sure that your function works, try these five test cases below. \n",
        "\n",
        "Note that the last two test cases are special: they test whether your function handles extreme cases where a too simple approach is prone to a catastrophic cancellation. Make sure your function passes all five tests.\n",
        "\n",
        "This exercise is graded, each test case contributes a 20% of the grade. "
      ]
    },
    {
      "cell_type": "code",
      "metadata": {
        "id": "rB96llJzm8zt"
      },
      "source": [
        "from numpy import allclose"
      ],
      "execution_count": null,
      "outputs": []
    },
    {
      "cell_type": "code",
      "metadata": {
        "collapsed": true,
        "id": "A--UYkmlrz8J"
      },
      "source": [
        "variants = [{'b': 4.0, 'c': 3.0},\n",
        "            {'b': 2.0, 'c': 1.0},\n",
        "            {'b': 0.5, 'c': 4.0},\n",
        "            {'b': 1e10, 'c': 3.0},\n",
        "            {'b': -1e10, 'c': 4.0},]"
      ],
      "execution_count": null,
      "outputs": []
    },
    {
      "cell_type": "code",
      "metadata": {
        "colab": {
          "base_uri": "https://localhost:8080/"
        },
        "id": "TpSM9Zh9rz8K",
        "outputId": "5ecbab5f-4d58-49eb-e903-d7f8dd798903"
      },
      "source": [
        "for var in variants:\n",
        "    u, x1, x2 = solve_quad_Po_Shen_Loh(**var)\n",
        "    print(allclose(x1*x2, var['c']))\n"
      ],
      "execution_count": null,
      "outputs": [
        {
          "output_type": "stream",
          "name": "stdout",
          "text": [
            "True\n",
            "True\n",
            "True\n",
            "True\n",
            "True\n"
          ]
        }
      ]
    },
    {
      "cell_type": "code",
      "metadata": {
        "colab": {
          "base_uri": "https://localhost:8080/"
        },
        "id": "4Zh88PhlMfGC",
        "outputId": "8a87dc64-652e-48f6-810c-c54048834584"
      },
      "source": [
        "for var in variants:\n",
        "    u, x1, x2 = solve_quad_Po_Shen_Loh(**var)\n",
        "    print(\"solve_quad_Po_Shen_Loh(\"+str(var['b'])+\",\"+str(var['c'])+\")\",solve_quad_Po_Shen_Loh(**var) )"
      ],
      "execution_count": null,
      "outputs": [
        {
          "output_type": "stream",
          "name": "stdout",
          "text": [
            "solve_quad_Po_Shen_Loh(4.0,3.0) ((1+0j), (-1-0j), (-3-0j))\n",
            "solve_quad_Po_Shen_Loh(2.0,1.0) (0j, (-1-0j), (-1-0j))\n",
            "solve_quad_Po_Shen_Loh(0.5,4.0) (1.984313483298443j, (-0.25+1.984313483298443j), (-0.25-1.984313483298443j))\n",
            "solve_quad_Po_Shen_Loh(10000000000.0,3.0) (-1, 10000000000.0, 3e-10)\n",
            "solve_quad_Po_Shen_Loh(-10000000000.0,4.0) (-1, -10000000000.0, -4e-10)\n"
          ]
        }
      ]
    },
    {
      "cell_type": "markdown",
      "metadata": {
        "id": "EA0bZiEmRnpL"
      },
      "source": [
        "![image.png](data:image/png;base64,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)"
      ]
    }
  ]
}